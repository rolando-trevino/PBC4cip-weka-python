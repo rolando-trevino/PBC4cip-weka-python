{
 "metadata": {
  "language_info": {
   "codemirror_mode": {
    "name": "ipython",
    "version": 3
   },
   "file_extension": ".py",
   "mimetype": "text/x-python",
   "name": "python",
   "nbconvert_exporter": "python",
   "pygments_lexer": "ipython3",
   "version": "3.7.9-final"
  },
  "orig_nbformat": 2,
  "kernelspec": {
   "name": "Python 3.7.9 64-bit ('thesis': conda)",
   "display_name": "Python 3.7.9 64-bit ('thesis': conda)",
   "metadata": {
    "interpreter": {
     "hash": "33569e65415ab5d60fa238ffc92a60daac8dfb5b174e1c93a40d87cbb5b7c13e"
    }
   }
  }
 },
 "nbformat": 4,
 "nbformat_minor": 2,
 "cells": [
  {
   "cell_type": "code",
   "execution_count": 38,
   "metadata": {},
   "outputs": [],
   "source": [
    "import pandas as pd\n",
    "import numpy as np\n",
    "import spacy\n",
    "import unicodedata\n",
    "import re"
   ]
  },
  {
   "cell_type": "code",
   "execution_count": 42,
   "metadata": {},
   "outputs": [],
   "source": [
    "df = pd.read_csv(\"dataset_nlp_clean.csv\", encoding='utf8')\n",
    "df2 = df[['nlp']]\n",
    "df2['nlp'] = df2['nlp'].replace(np.NaN, ' ')\n",
    "df['Descripción del Anuncio'] = df['Descripción del Anuncio'].replace(np.NaN, ' ')"
   ]
  },
  {
   "cell_type": "code",
   "execution_count": 8,
   "metadata": {},
   "outputs": [
    {
     "output_type": "execute_result",
     "data": {
      "text/plain": [
       "                                                 nlp\n",
       "0  mejoramiento de la iluminacion de la iglesia s...\n",
       "1  adquisicion de uniformes para la direccion de ...\n",
       "2  proyecto ejecutivo jardin vecinal colonia las ...\n",
       "3             construccion de deportivo bicentenario\n",
       "4   acondicionamiento de centro cultural y deportivo"
      ],
      "text/html": "<div>\n<style scoped>\n    .dataframe tbody tr th:only-of-type {\n        vertical-align: middle;\n    }\n\n    .dataframe tbody tr th {\n        vertical-align: top;\n    }\n\n    .dataframe thead th {\n        text-align: right;\n    }\n</style>\n<table border=\"1\" class=\"dataframe\">\n  <thead>\n    <tr style=\"text-align: right;\">\n      <th></th>\n      <th>nlp</th>\n    </tr>\n  </thead>\n  <tbody>\n    <tr>\n      <th>0</th>\n      <td>mejoramiento de la iluminacion de la iglesia s...</td>\n    </tr>\n    <tr>\n      <th>1</th>\n      <td>adquisicion de uniformes para la direccion de ...</td>\n    </tr>\n    <tr>\n      <th>2</th>\n      <td>proyecto ejecutivo jardin vecinal colonia las ...</td>\n    </tr>\n    <tr>\n      <th>3</th>\n      <td>construccion de deportivo bicentenario</td>\n    </tr>\n    <tr>\n      <th>4</th>\n      <td>acondicionamiento de centro cultural y deportivo</td>\n    </tr>\n  </tbody>\n</table>\n</div>"
     },
     "metadata": {},
     "execution_count": 8
    }
   ],
   "source": [
    "df2.head()"
   ]
  },
  {
   "cell_type": "code",
   "execution_count": 32,
   "metadata": {},
   "outputs": [],
   "source": [
    "def avg_word(sentence):\n",
    "    words = sentence.split()\n",
    "    if len(words) > 1:\n",
    "        return (sum(len(word) for word in words)/len(words))\n",
    "    else:\n",
    "        return 0"
   ]
  },
  {
   "cell_type": "code",
   "execution_count": 39,
   "metadata": {},
   "outputs": [],
   "source": [
    "nlp = spacy.load(\"es_core_news_lg\", disable=['ner', 'parser'])\n",
    "SpacyStopwords = nlp.Defaults.stop_words\n",
    "\n",
    "# StopwordsOriginal = SpacyStopwords.words(\"spanish\") # stopwords de spacy o nltk cuales son mejor?\n",
    "StopwordsSP = []\n",
    "\n",
    "for Word in SpacyStopwords:\n",
    "    Stop = Word.lower()\n",
    "    Stop_NFKD = unicodedata.normalize('NFKD', Stop)\n",
    "    Stop = u\"\".join([c for c in Stop_NFKD if not unicodedata.combining(c)])\n",
    "    StopwordsSP.append(Stop)\n",
    "\n",
    "preposiciones = ['a', 'durante', 'según', 'ante', 'en', 'sin', 'bajo', 'entre', 'so', 'cabe', 'hacia', 'sobre', 'con', 'hasta', 'tras', 'contra', 'mediante', 'versus', 'de', 'para', 'via', 'desde', 'por', 'y', 'o']\n",
    "\n",
    "StopwordsSP = StopwordsSP + preposiciones"
   ]
  },
  {
   "cell_type": "code",
   "execution_count": 43,
   "metadata": {},
   "outputs": [],
   "source": [
    "df2['word_count'] = df2['nlp'].apply(lambda x: len(str(x).split(\" \")))\n",
    "df2['char_count_w_spaces'] = df2['nlp'].str.len()\n",
    "df2['char_count_wo_spaces'] = df2['nlp'].replace(\" \", \"\", regex=True).str.len()\n",
    "df2['avg_word'] = df2['nlp'].apply(lambda x: avg_word(x))\n",
    "df2['stopwords'] = df2['nlp'].apply(lambda x: len([x for x in x.split() if x in StopwordsSP]))\n",
    "# df2['hastags'] = df2['nlp'].apply(lambda x: len([x for x in x.split() if x.startswith('#')]))\n",
    "df2['numerics'] = df2['nlp'].apply(lambda x: len([x for x in x.split() if x.isdigit()]))\n",
    "df2['punctuation'] = df['Descripción del Anuncio'].str.findall(r'[^a-zA-Z0-9 ]').str.len()\n",
    "df2['upper'] = df['Descripción del Anuncio'].apply(lambda x: len([x for x in x.split() if x.isupper()]))"
   ]
  },
  {
   "cell_type": "code",
   "execution_count": 44,
   "metadata": {},
   "outputs": [
    {
     "output_type": "execute_result",
     "data": {
      "text/plain": [
       "                                                 nlp  word_count  \\\n",
       "0  mejoramiento de la iluminacion de la iglesia s...           9   \n",
       "1  adquisicion de uniformes para la direccion de ...          11   \n",
       "2  proyecto ejecutivo jardin vecinal colonia las ...          13   \n",
       "3             construccion de deportivo bicentenario           4   \n",
       "4   acondicionamiento de centro cultural y deportivo           6   \n",
       "\n",
       "   char_count_w_spaces  char_count_wo_spaces  avg_word  stopwords  numerics  \\\n",
       "0                   55                    47  5.222222          4         0   \n",
       "1                   74                    64  5.818182          5         0   \n",
       "2                   87                    75  5.769231          4         0   \n",
       "3                   38                    35  8.750000          1         0   \n",
       "4                   48                    43  7.166667          2         0   \n",
       "\n",
       "   punctuation  upper  \n",
       "0            1      0  \n",
       "1            3      0  \n",
       "2            1     13  \n",
       "3            0      4  \n",
       "4            0      6  "
      ],
      "text/html": "<div>\n<style scoped>\n    .dataframe tbody tr th:only-of-type {\n        vertical-align: middle;\n    }\n\n    .dataframe tbody tr th {\n        vertical-align: top;\n    }\n\n    .dataframe thead th {\n        text-align: right;\n    }\n</style>\n<table border=\"1\" class=\"dataframe\">\n  <thead>\n    <tr style=\"text-align: right;\">\n      <th></th>\n      <th>nlp</th>\n      <th>word_count</th>\n      <th>char_count_w_spaces</th>\n      <th>char_count_wo_spaces</th>\n      <th>avg_word</th>\n      <th>stopwords</th>\n      <th>numerics</th>\n      <th>punctuation</th>\n      <th>upper</th>\n    </tr>\n  </thead>\n  <tbody>\n    <tr>\n      <th>0</th>\n      <td>mejoramiento de la iluminacion de la iglesia s...</td>\n      <td>9</td>\n      <td>55</td>\n      <td>47</td>\n      <td>5.222222</td>\n      <td>4</td>\n      <td>0</td>\n      <td>1</td>\n      <td>0</td>\n    </tr>\n    <tr>\n      <th>1</th>\n      <td>adquisicion de uniformes para la direccion de ...</td>\n      <td>11</td>\n      <td>74</td>\n      <td>64</td>\n      <td>5.818182</td>\n      <td>5</td>\n      <td>0</td>\n      <td>3</td>\n      <td>0</td>\n    </tr>\n    <tr>\n      <th>2</th>\n      <td>proyecto ejecutivo jardin vecinal colonia las ...</td>\n      <td>13</td>\n      <td>87</td>\n      <td>75</td>\n      <td>5.769231</td>\n      <td>4</td>\n      <td>0</td>\n      <td>1</td>\n      <td>13</td>\n    </tr>\n    <tr>\n      <th>3</th>\n      <td>construccion de deportivo bicentenario</td>\n      <td>4</td>\n      <td>38</td>\n      <td>35</td>\n      <td>8.750000</td>\n      <td>1</td>\n      <td>0</td>\n      <td>0</td>\n      <td>4</td>\n    </tr>\n    <tr>\n      <th>4</th>\n      <td>acondicionamiento de centro cultural y deportivo</td>\n      <td>6</td>\n      <td>48</td>\n      <td>43</td>\n      <td>7.166667</td>\n      <td>2</td>\n      <td>0</td>\n      <td>0</td>\n      <td>6</td>\n    </tr>\n  </tbody>\n</table>\n</div>"
     },
     "metadata": {},
     "execution_count": 44
    }
   ],
   "source": [
    "df2.head()"
   ]
  },
  {
   "cell_type": "code",
   "execution_count": 45,
   "metadata": {},
   "outputs": [],
   "source": [
    "df2.to_csv(\"dataset_nlp_features.csv\", index=False)"
   ]
  },
  {
   "cell_type": "code",
   "execution_count": null,
   "metadata": {},
   "outputs": [],
   "source": []
  }
 ]
}